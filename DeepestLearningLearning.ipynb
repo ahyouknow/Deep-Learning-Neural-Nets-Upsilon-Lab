{
 "cells": [
  {
   "cell_type": "markdown",
   "id": "cff83f79",
   "metadata": {},
   "source": [
    "#Inits"
   ]
  },
  {
   "cell_type": "code",
   "execution_count": 10,
   "id": "ae69ea21-99fb-49cd-8949-f7ab6f56ab5c",
   "metadata": {},
   "outputs": [],
   "source": [
    "# Deep Learning Test\n",
    "import numpy as np\n",
    "import matplotlib.pyplot as plt"
   ]
  },
  {
   "cell_type": "code",
   "execution_count": 11,
   "id": "6f2a1f64-7143-41d2-b714-3546cc5a1aa7",
   "metadata": {},
   "outputs": [],
   "source": [
    "def sigmoid(x):\n",
    "    return 1/(1+np.exp(-x))\n",
    "\n",
    "def sigmoidDeriv(x):\n",
    "    return sigmoid(x)*(1-sigmoid(x))\n",
    "\n",
    "def cost(x,Y):\n",
    "    return 1/n*np.sum(np.square(Y-x))\n",
    "\n",
    "def costDeriv(x):\n",
    "    return x-Y\n",
    "\n",
    "def forwardProp(X,weights,biases):\n",
    "    zs = []\n",
    "    a = [X]\n",
    "    \n",
    "    for b,w in zip(biases[0:-1], weights[0:-1]):\n",
    "        z = np.dot(w,a[-1])+b\n",
    "        zs.append(z)\n",
    "        a.append(sigmoid(z))\n",
    "        \n",
    "    z = np.dot(weights[-1],a[-1])+biases[-1]\n",
    "    zs.append(z)\n",
    "    a.append(z)\n",
    "    \n",
    "    return zs, a\n",
    "\n",
    "def backProp(zs, a, weights, biases):\n",
    "    \n",
    "    alpha = .01\n",
    "    deltas = [0 for b in biases]\n",
    "    \n",
    "    #output error\n",
    "    deltas[-1] = costDeriv(a[-1])*a[-1]\n",
    "    \n",
    "    #hidden layer back prop\n",
    "    for l in range(2, hlayers+2):\n",
    "        deltas[-l] = np.dot(weights[-l+1].T,deltas[-l+1])*sigmoidDeriv(zs[-l])\n",
    "    \n",
    "    #grad descent\n",
    "    for i in range(len(weights)):\n",
    "        weights[i] = weights[i] - alpha/n * np.dot(deltas[i],a[i].T)\n",
    "    for i in range(len(biases)):\n",
    "        biases[i] = biases[i] - alpha/n * np.sum(deltas[i], axis=1, keepdims=True)\n",
    "    \n",
    "    \n",
    "    return weights, biases"
   ]
  },
  {
   "cell_type": "code",
   "execution_count": 16,
   "id": "1a3f040c",
   "metadata": {},
   "outputs": [
    {
     "data": {
      "image/png": "[encoded data removed]",
      "text/plain": [
       "<Figure size 640x480 with 1 Axes>"
      ]
     },
     "metadata": {},
     "output_type": "display_data"
    },
    {
     "name": "stdout",
     "output_type": "stream",
     "text": [
      "1000000\n"
     ]
    }
   ],
   "source": [
    "inputs = 1  #number of input nodes\n",
    "hlayers = 1 #number of hidden layers\n",
    "nodes = 2   #number of nodes per hidden layer\n",
    "outputs = 1 #number of output nodes\n",
    "\n",
    "X = np.array([[2],[5],[9],[3],[6],[8]]).T\n",
    "Y = np.array([[3],[8],[1],[5],[6],[3]]).T\n",
    "n = X.size\n",
    "\n",
    "# initialize weights and biases\n",
    "weights = []\n",
    "weights.append(np.random.randn(nodes,inputs))\n",
    "for i in range(1,hlayers):\n",
    "    weights.append(np.random.randn(nodes,nodes))\n",
    "weights.append(np.random.randn(outputs,nodes))\n",
    "\n",
    "biases = []\n",
    "biases.append(np.random.randn(nodes,1))\n",
    "for i in range(1,hlayers):\n",
    "    biases.append(np.random.randn(nodes,1))\n",
    "biases.append(np.random.randn(outputs,1))\n",
    "\n",
    "\n",
    "iters = 1000000\n",
    "J = 2\n",
    "newJ = 1\n",
    "Js = []\n",
    "counter = 0\n",
    "\n",
    "x = np.array([np.linspace(0,10,15)])\n",
    "y, superduberthrowawaythisvariable = forwardProp(x, weights, biases)\n",
    "\n",
    "#plt.plot(x.T,y[-1].T)\n",
    "#plt.plot(X,Y, 'o')\n",
    "#plt.show()\n",
    "\n",
    "while((newJ-J)/J < 100 and counter < iters and abs((newJ-J)/J) > 1e-7):\n",
    "    counter+=1\n",
    "    J = newJ\n",
    "    zs, a = forwardProp(X, weights, biases)\n",
    "    weights, biases = backProp(zs, a,weights, biases)\n",
    "    newJ = cost(zs[-1],Y)\n",
    "\n",
    "x = np.array([np.linspace(0,10,15)])\n",
    "y, superduberthrowawaythisvariable = forwardProp(x, weights, biases)\n",
    "\n",
    "iterations = np.array([np.linspace(1,counter,len(Js))])\n",
    "\n",
    "#plot\n",
    "plt.plot(x.T,y[-1].T)\n",
    "plt.plot(X,Y, 'o')\n",
    "plt.show()\n",
    "\n",
    "print(counter)"
   ]
  },
  {
   "cell_type": "code",
   "execution_count": 8,
   "id": "9c8365ec-229d-419a-b0d7-ce08667a179d",
   "metadata": {
    "tags": []
   },
   "outputs": [
    {
     "name": "stdout",
     "output_type": "stream",
     "text": [
      "[array([[ 25.42792518,  57.74497695, 100.83437931,  36.20027577,\n",
      "         68.51732754,  90.06202872],\n",
      "       [ 41.25600776,  98.02598761, 173.71929409,  60.17933438,\n",
      "        116.94931423, 154.79596747]]), array([[-215749.34507072, -215749.34507137, -215749.34507137,\n",
      "        -215749.34507137, -215749.34507137, -215749.34507137]])]\n"
     ]
    }
   ],
   "source": [
    "print(zs)"
   ]
  },
  {
   "cell_type": "code",
   "execution_count": null,
   "id": "23e04358-b4e9-432a-b2d9-00388b04f839",
   "metadata": {
    "tags": []
   },
   "outputs": [],
   "source": [
    "print(a)"
   ]
  }
 ],
 "metadata": {
  "kernelspec": {
   "display_name": "Python 3 (ipykernel)",
   "language": "python",
   "name": "python3"
  },
  "language_info": {
   "codemirror_mode": {
    "name": "ipython",
    "version": 3
   },
   "file_extension": ".py",
   "mimetype": "text/x-python",
   "name": "python",
   "nbconvert_exporter": "python",
   "pygments_lexer": "ipython3",
   "version": "3.10.7"
  },
  "vscode": {
   "interpreter": {
    "hash": "5ff68925f144ee6149f353968ab3f9a568fbab56999206e8f3106d12d3db4903"
   }
  }
 },
 "nbformat": 4,
 "nbformat_minor": 5
}
